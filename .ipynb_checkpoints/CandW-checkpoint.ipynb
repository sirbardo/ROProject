{
 "cells": [
  {
   "cell_type": "markdown",
   "metadata": {},
   "source": [
    "#RO Project#\n",
    "\n",
    "1. Read instances' data from file\n",
    "2. Initialize the parameters read from file\n",
    "3. n = number of customers\n",
    "4. c = matrix of costs\n",
    "5. ml = max load of the vehicle\n",
    "6. l = linehaul values vector\n",
    "7. b = backhaul values vector\n",
    "8. Initialize the matrix s of savings \n",
    "9. for i = 1:n\n",
    "    1. for j = 1:n\n",
    "        1. If i == j\n",
    "            1. s_ij = +inf\n",
    "        2. else\n",
    "            1. s_ij = c_i0 + c_0j - c_ij\n",
    "10. Routes = list of empty routes\n",
    "11. for i = 1:n\n",
    "    1. Routes_i = (0,i,0)\n",
    "12. Order the savings s in a non increasing fashion\n",
    "13. for each route in Routes:\n",
    "    1. while this route can be feasibly (respecting the constraints) merged further:\n",
    "\t   1.determine the first saving s_ki or s_jl in the ordered list that can feasibly be used to merge the current route with another route containing either the arc (k, 0) or (0, l). \n",
    "       \t   2. merge the two routes.\n",
    "\n"
   ]
  },
  {
   "cell_type": "code",
   "execution_count": 1,
   "metadata": {},
   "outputs": [],
   "source": [
    "import numpy as np"
   ]
  },
  {
   "cell_type": "code",
   "execution_count": 2,
   "metadata": {},
   "outputs": [
    {
     "name": "stdout",
     "output_type": "stream",
     "text": [
      "25\n",
      "1\n",
      "8\n",
      "12000   16000   0   1550\n",
      "9795   21510   0   549   0\n",
      "7758   10895   0   558   0\n",
      "12927   2464   0   851   0\n",
      "23286   5538   0   388   0\n",
      "7416   15826   0   194   0\n",
      "21524   24879   483   0   0\n",
      "22337   17915   389   0   0\n",
      "7642   9722   435   0   0\n",
      "3707   20036   452   0   0\n",
      "15492   2721   343   0   0\n",
      "12430   10638   444   0   0\n",
      "13595   1918   350   0   0\n",
      "4290   2721   307   0   0\n",
      "18684   5268   810   0   0\n",
      "8686   9546   1002   0   0\n",
      "23140   10989   476   0   0\n",
      "5263   14289   674   0   0\n",
      "19557   17564   691   0   0\n",
      "23281   29684   675   0   0\n",
      "374   22683   410   0   0\n",
      "18804   9082   351   0   0\n",
      "5444   25004   786   0   0\n",
      "20390   25745   59   0   0\n",
      "4310   21692   362   0   0\n",
      "8526   2495   550   0   0\n",
      "\n"
     ]
    }
   ],
   "source": [
    "filename = 'Instances/A1.txt'\n",
    "with open(filename, 'r') as f:\n",
    "    content = f.read()\n",
    "    print(content)"
   ]
  },
  {
   "cell_type": "code",
   "execution_count": 3,
   "metadata": {},
   "outputs": [],
   "source": [
    "content = content.split('\\n')[0:-1] #-1 because the last element is a newline, so we skip it"
   ]
  },
  {
   "cell_type": "code",
   "execution_count": 4,
   "metadata": {},
   "outputs": [],
   "source": [
    "n_of_customers = int(content[0])\n",
    "n_of_vehicles = int(content[2])\n",
    "capacity = int(content[3].split()[3])\n",
    "linehaul_vector = [i.split()[3] for i in content[4:]] #linehaul data is in the fourth column\n",
    "backhaul_vector = [i.split()[2] for i in content[4:]] #and backhaul is in the third"
   ]
  },
  {
   "cell_type": "code",
   "execution_count": 5,
   "metadata": {},
   "outputs": [],
   "source": [
    "import math\n",
    "\n",
    "def euclidean_distance2D(point1, point2):\n",
    "    \n",
    "    x1, y1 = point1\n",
    "    x2, y2 = point2\n",
    "    \n",
    "    return (math.sqrt((x1-x2)**2 + (y1-y2)**2))"
   ]
  },
  {
   "cell_type": "code",
   "execution_count": 6,
   "metadata": {},
   "outputs": [],
   "source": [
    "cost_matrix = []\n",
    "\n",
    "x_coords = [int(i.split()[0]) for i in content[3:]]\n",
    "y_coords = [int(i.split()[1]) for i in content[3:]]\n",
    "\n",
    "for i, (x1, y1) in enumerate(zip(x_coords, y_coords)): #could also enumerate over y_coords, the dimensions are equal\n",
    "    \n",
    "    current_row = []\n",
    "    \n",
    "    for j, (x2, y2) in enumerate(zip(x_coords, y_coords)):\n",
    "        \n",
    "        current_row += [euclidean_distance2D((x1,y1), (x2,y2))]\n",
    "        \n",
    "    cost_matrix += [current_row]\n",
    "        \n",
    "        "
   ]
  },
  {
   "cell_type": "code",
   "execution_count": 7,
   "metadata": {},
   "outputs": [],
   "source": [
    "cost_matrix = np.array(cost_matrix)\n",
    "savings_matrix = np.zeros((n_of_customers, n_of_customers))"
   ]
  },
  {
   "cell_type": "code",
   "execution_count": 15,
   "metadata": {},
   "outputs": [],
   "source": [
    "import sys\n",
    "\n",
    "for i in range(n_of_customers):\n",
    "    for j in range(n_of_customers):\n",
    "        if (i==j):\n",
    "            savings_matrix[i][j] = sys.maxsize\n",
    "        else:\n",
    "            savings_matrix[i][j] = cost_matrix[i][0] + cost_matrix[0][j] - cost_matrix[i][j]"
   ]
  },
  {
   "cell_type": "code",
   "execution_count": 21,
   "metadata": {},
   "outputs": [],
   "source": [
    "routes = []"
   ]
  },
  {
   "cell_type": "code",
   "execution_count": 22,
   "metadata": {},
   "outputs": [],
   "source": [
    "for i in range(n_of_customers):\n",
    "    \n",
    "    routes += [(0, i, 0)]"
   ]
  },
  {
   "cell_type": "code",
   "execution_count": 23,
   "metadata": {},
   "outputs": [
    {
     "data": {
      "text/plain": [
       "[(0, 0, 0),\n",
       " (0, 1, 0),\n",
       " (0, 2, 0),\n",
       " (0, 3, 0),\n",
       " (0, 4, 0),\n",
       " (0, 5, 0),\n",
       " (0, 6, 0),\n",
       " (0, 7, 0),\n",
       " (0, 8, 0),\n",
       " (0, 9, 0),\n",
       " (0, 10, 0),\n",
       " (0, 11, 0),\n",
       " (0, 12, 0),\n",
       " (0, 13, 0),\n",
       " (0, 14, 0),\n",
       " (0, 15, 0),\n",
       " (0, 16, 0),\n",
       " (0, 17, 0),\n",
       " (0, 18, 0),\n",
       " (0, 19, 0),\n",
       " (0, 20, 0),\n",
       " (0, 21, 0),\n",
       " (0, 22, 0),\n",
       " (0, 23, 0),\n",
       " (0, 24, 0)]"
      ]
     },
     "execution_count": 23,
     "metadata": {},
     "output_type": "execute_result"
    }
   ],
   "source": [
    "routes"
   ]
  },
  {
   "cell_type": "code",
   "execution_count": null,
   "metadata": {},
   "outputs": [],
   "source": []
  }
 ],
 "metadata": {
  "kernelspec": {
   "display_name": "Python 3",
   "language": "python",
   "name": "python3"
  },
  "language_info": {
   "codemirror_mode": {
    "name": "ipython",
    "version": 3
   },
   "file_extension": ".py",
   "mimetype": "text/x-python",
   "name": "python",
   "nbconvert_exporter": "python",
   "pygments_lexer": "ipython3",
   "version": "3.6.3"
  }
 },
 "nbformat": 4,
 "nbformat_minor": 2
}

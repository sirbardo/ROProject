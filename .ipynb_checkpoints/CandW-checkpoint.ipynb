{
 "cells": [
  {
   "cell_type": "markdown",
   "metadata": {},
   "source": [
    "#RO Project#\n",
    "\n",
    "1. Read instances' data from file\n",
    "2. Initialize the parameters read from file\n",
    "3. n = number of customers\n",
    "4. c = matrix of costs\n",
    "5. ml = max load of the vehicle\n",
    "6. l = linehaul values vector\n",
    "7. b = backhaul values vector\n",
    "8. Initialize the matrix s of savings \n",
    "9. for i = 1:n\n",
    "    1. for j = 1:n\n",
    "        1. If i == j\n",
    "            1. s_ij = +inf\n",
    "        2. else\n",
    "            1. s_ij = c_i0 + c_0j - c_ij\n",
    "10. Routes = list of empty routes\n",
    "11. for i = 1:n\n",
    "    1. Routes_i = (0,i,0)\n",
    "12. Order the savings s in a non increasing fashion\n",
    "13. for each route in Routes:\n",
    "    1. while this route can be feasibly (respecting the constraints) merged further:\n",
    "\t   1.determine the first saving s_ki or s_jl in the ordered list that can feasibly be used to merge the current route with another route containing either the arc (k, 0) or (0, l). \n",
    "       \t   2. merge the two routes.\n",
    "\n"
   ]
  },
  {
   "cell_type": "code",
   "execution_count": 71,
   "metadata": {},
   "outputs": [],
   "source": [
    "import numpy as np\n",
    "import sys"
   ]
  },
  {
   "cell_type": "code",
   "execution_count": 72,
   "metadata": {},
   "outputs": [
    {
     "name": "stdout",
     "output_type": "stream",
     "text": [
      "25\n",
      "1\n",
      "8\n",
      "12000   16000   0   1550\n",
      "9795   21510   0   549   0\n",
      "7758   10895   0   558   0\n",
      "12927   2464   0   851   0\n",
      "23286   5538   0   388   0\n",
      "7416   15826   0   194   0\n",
      "21524   24879   483   0   0\n",
      "22337   17915   389   0   0\n",
      "7642   9722   435   0   0\n",
      "3707   20036   452   0   0\n",
      "15492   2721   343   0   0\n",
      "12430   10638   444   0   0\n",
      "13595   1918   350   0   0\n",
      "4290   2721   307   0   0\n",
      "18684   5268   810   0   0\n",
      "8686   9546   1002   0   0\n",
      "23140   10989   476   0   0\n",
      "5263   14289   674   0   0\n",
      "19557   17564   691   0   0\n",
      "23281   29684   675   0   0\n",
      "374   22683   410   0   0\n",
      "18804   9082   351   0   0\n",
      "5444   25004   786   0   0\n",
      "20390   25745   59   0   0\n",
      "4310   21692   362   0   0\n",
      "8526   2495   550   0   0\n",
      "\n"
     ]
    }
   ],
   "source": [
    "filename = 'Instances/A1.txt'\n",
    "with open(filename, 'r') as f:\n",
    "    content = f.read()\n",
    "    print(content)"
   ]
  },
  {
   "cell_type": "code",
   "execution_count": 73,
   "metadata": {},
   "outputs": [],
   "source": [
    "content = content.split('\\n')[0:-1] #-1 because the last element is a newline, so we skip it"
   ]
  },
  {
   "cell_type": "code",
   "execution_count": 74,
   "metadata": {},
   "outputs": [],
   "source": [
    "n_of_customers = int(content[0])\n",
    "n_of_vehicles = int(content[2])\n",
    "capacity = int(content[3].split()[3])\n",
    "linehaul_vector = [int(i.split()[3]) for i in content[4:]] #linehaul data is in the fourth column\n",
    "backhaul_vector = [int(i.split()[2]) for i in content[4:]] #and backhaul is in the third"
   ]
  },
  {
   "cell_type": "code",
   "execution_count": 75,
   "metadata": {},
   "outputs": [],
   "source": [
    "import math\n",
    "\n",
    "def euclidean_distance2D(point1, point2):\n",
    "    \n",
    "    x1, y1 = point1\n",
    "    x2, y2 = point2\n",
    "    \n",
    "    return (math.sqrt((x1-x2)**2 + (y1-y2)**2))"
   ]
  },
  {
   "cell_type": "code",
   "execution_count": 76,
   "metadata": {},
   "outputs": [],
   "source": [
    "cost_matrix = []\n",
    "\n",
    "x_coords = [int(i.split()[0]) for i in content[3:]]\n",
    "y_coords = [int(i.split()[1]) for i in content[3:]]\n",
    "\n",
    "for i, (x1, y1) in enumerate(zip(x_coords, y_coords)): #could also enumerate over y_coords, the dimensions are equal\n",
    "    \n",
    "    current_row = []\n",
    "    \n",
    "    for j, (x2, y2) in enumerate(zip(x_coords, y_coords)):\n",
    "        \n",
    "        current_row += [euclidean_distance2D((x1,y1), (x2,y2))]\n",
    "        \n",
    "    cost_matrix += [current_row]\n",
    "        \n",
    "        "
   ]
  },
  {
   "cell_type": "code",
   "execution_count": 77,
   "metadata": {},
   "outputs": [],
   "source": [
    "cost_matrix = np.array(cost_matrix)\n",
    "savings_matrix = np.zeros((n_of_customers, n_of_customers))"
   ]
  },
  {
   "cell_type": "code",
   "execution_count": 78,
   "metadata": {},
   "outputs": [],
   "source": [
    "for i in range(n_of_customers):\n",
    "    for j in range(n_of_customers):\n",
    "        if (i==j):\n",
    "            savings_matrix[i][j] = sys.maxsize\n",
    "        else:\n",
    "            savings_matrix[i][j] = cost_matrix[i][0] + cost_matrix[0][j] - cost_matrix[i][j]"
   ]
  },
  {
   "cell_type": "code",
   "execution_count": 79,
   "metadata": {},
   "outputs": [],
   "source": [
    "routes = []"
   ]
  },
  {
   "cell_type": "code",
   "execution_count": 80,
   "metadata": {},
   "outputs": [],
   "source": [
    "for i in range(n_of_customers-1):\n",
    "    \n",
    "    routes += [(0, i+1, 0)]"
   ]
  },
  {
   "cell_type": "code",
   "execution_count": 81,
   "metadata": {},
   "outputs": [],
   "source": [
    "ordered_savings = []\n",
    "\n",
    "for index, el in np.ndenumerate(savings_matrix):\n",
    "    ordered_savings += [(el, index)]\n",
    "\n",
    "ordered_savings.sort(key=lambda x: x[0], reverse=True)\n",
    "ordered_i_savings = list(ordered_savings)\n",
    "ordered_j_savings = list(ordered_savings)\n",
    "ordered_i_savings.sort(key=lambda x: (x[1][0], -x[0]))\n",
    "ordered_j_savings.sort(key=lambda x: (x[1][1], -x[0]))\n"
   ]
  },
  {
   "cell_type": "code",
   "execution_count": 98,
   "metadata": {},
   "outputs": [],
   "source": [
    "def is_route_merge_valid(id_route1, id_route2):\n",
    "    \n",
    "    \"\"\"First, try if you can merge it with the end of route1 to end of route2\"\"\"\n",
    "    \n",
    "    possible_route = list( routes[id_route1][:-1] + routes[id_route2][1:]) #the merge itself is just skipping the left and right\n",
    "    \n",
    "    i = 0\n",
    "    \n",
    "    \n",
    "    cost_of_possible_route_backhaul = 0\n",
    "    cost_of_possible_route_linehaul = 0\n",
    "    is_right_possible = True\n",
    "    \n",
    "    for node_touched in possible_route[1:-1]:\n",
    "        \n",
    "        if linehaul_vector[node_touched] == 0:#linehaul_vector is 0 if a node is not a linehaul node, so we have to go to the next for\n",
    "            break\n",
    "        else:\n",
    "            cost_of_possible_route_linehaul += linehaul_vector[node_touched]\n",
    "            i+=1\n",
    "            \n",
    "    starting_point = i\n",
    "    if i < len(possible_route[1:-1]):\n",
    "        for node_touched in possible_route[starting_point+1:-1]:\n",
    "            \n",
    "            if backhaul_vector[node_touched] == 0 and i != len(possible_route): #we are trying to linehaul AFTER we started backhauling... constraint broken:\n",
    "                is_right_possible = False\n",
    "                print(i, backhaul_vector[node_touched], node_touched)\n",
    "            else:\n",
    "                cost_of_possible_route_backhaul = backhaul_vector[node_touched]\n",
    "                i+=1\n",
    "                \n",
    "        \n",
    "    if (cost_of_possible_route_backhaul > capacity or cost_of_possible_route_linehaul > capacity):\n",
    "        is_right_possible = False\n",
    "        \n",
    "        \n",
    "    \"\"\"Now the other possible route.\"\"\"\n",
    "        \n",
    "    possible_route = list( routes[id_route2][:-1] + routes[id_route1][1:]) #the merge itself is just skipping the left and right\n",
    "    \n",
    "    i = 0\n",
    "    \n",
    "    cost_of_possible_route_backhaul = 0\n",
    "    cost_of_possible_route_linehaul = 0\n",
    "    is_left_possible = True\n",
    "    \n",
    "    for node_touched in possible_route[1:-1]:\n",
    "        \n",
    "        if linehaul_vector[node_touched] == 0:#linehaul_vector is 0 if a node is not a linehaul node, so we have to go to the next for\n",
    "            break\n",
    "        else:\n",
    "            cost_of_possible_route_linehaul += linehaul_vector[node_touched]\n",
    "            i+=1\n",
    "            \n",
    "    starting_point = i\n",
    "    if i < len(possible_route[1:-1]):\n",
    "        for node_touched in possible_route[starting_point+1:-1]:\n",
    "            \n",
    "            if backhaul_vector[node_touched] == 0 and i != len(possible_route): #we are trying to linehaul AFTER we started backhauling... constraint broken:\n",
    "                is_left_possible = False\n",
    "            else:\n",
    "                cost_of_possible_route_backhaul = backhaul_vector[node_touched]\n",
    "                i+=1\n",
    "                \n",
    "        \n",
    "    if (cost_of_possible_route_backhaul > capacity or cost_of_possible_route_linehaul > capacity):\n",
    "        is_left_possible = False\n",
    "        \n",
    "        \n",
    "    #print(is_left_possible, is_right_possible)\n",
    "        \n",
    "    if not is_left_possible and not is_right_possible:\n",
    "        return ('')\n",
    "    elif is_left_possible and is_right_possible:\n",
    "        return ('lr')\n",
    "    elif is_left_possible:\n",
    "        return 'l'\n",
    "    else:\n",
    "        return 'r'\n",
    "        \n",
    "                \n",
    "    "
   ]
  },
  {
   "cell_type": "code",
   "execution_count": 109,
   "metadata": {},
   "outputs": [],
   "source": [
    "def find_first_merge(id_curr_route, available_merges):\n",
    "    \n",
    "    \n",
    "    for saving in ordered_i_savings:\n",
    "        \n",
    "        if saving[1][0] > id_curr_route+1:\n",
    "            break\n",
    "        \n",
    "        if(saving[1][0] == id_curr_route+1 and saving[0] != sys.maxsize):\n",
    "            \n",
    "            for merge in available_merges:\n",
    "                if saving[1][1] == merge[0]+1:\n",
    "                    return merge\n",
    "        \n",
    "    for saving in ordered_j_savings:\n",
    "        \n",
    "        if saving[1][0] > id_curr_route+1:\n",
    "            break\n",
    "            \n",
    "        if(saving[1][0] == id_curr_route+1 and saving[0] != sys.maxsize):\n",
    "            \n",
    "            for merge in available_merges:\n",
    "\n",
    "                if saving[1][1] == merge[0]+1:\n",
    "                    return merge\n",
    "    "
   ]
  },
  {
   "cell_type": "code",
   "execution_count": 114,
   "metadata": {},
   "outputs": [],
   "source": [
    "def merge_two_routes(id_route1, found_id, direction_of_merge):\n",
    "    \n",
    "    tmp_list1 = list(routes[id_route1])\n",
    "    tmp_list2 = list(routes[found_id])\n",
    "        \n",
    "    tmp_list1.pop(0)\n",
    "    tmp_list1.pop(-1)\n",
    "    tmp_list2.pop(0)\n",
    "    tmp_list2.pop(-1)\n",
    "    \n",
    "    if direction_of_merge == 'l':\n",
    "        \n",
    "        routes[id_route1] = tuple([0]+tmp_list2+tmp_list1+[0])\n",
    "    \n",
    "    if direction_of_merge == 'r':\n",
    "        \n",
    "        routes[id_route1] = tuple([0]+tmp_list1+tmp_list2+[0])\n",
    "    \n",
    "    routes[found_id] = (-1,-1,-1)\n",
    "\n",
    "\n",
    "    "
   ]
  },
  {
   "cell_type": "code",
   "execution_count": null,
   "metadata": {},
   "outputs": [],
   "source": [
    "ordered_i_savings"
   ]
  },
  {
   "cell_type": "code",
   "execution_count": 115,
   "metadata": {},
   "outputs": [
    {
     "name": "stdout",
     "output_type": "stream",
     "text": [
      "[(1, 'l'), (1, 'r'), (2, 'l'), (2, 'r'), (3, 'l'), (3, 'r'), (4, 'r'), (5, 'r'), (6, 'r'), (7, 'r'), (8, 'r'), (9, 'r'), (10, 'r'), (11, 'r'), (12, 'r'), (13, 'r'), (14, 'r'), (15, 'r'), (16, 'r'), (17, 'r'), (18, 'r'), (19, 'r'), (20, 'r'), (21, 'r'), (22, 'r'), (23, 'r')]\n",
      "22, 2\n",
      "22, 2\n",
      "22, 3\n",
      "22, 3\n",
      "22, 4\n",
      "22, 4\n",
      "22, 5\n",
      "22, 6\n",
      "22, 7\n",
      "22, 8\n",
      "22, 9\n",
      "22, 10\n",
      "22, 11\n",
      "22, 12\n",
      "22, 13\n",
      "22, 14\n",
      "22, 15\n",
      "22, 16\n",
      "22, 17\n",
      "22, 18\n",
      "22, 19\n",
      "22, 20\n",
      "22, 21\n",
      "22, 22\n"
     ]
    }
   ],
   "source": [
    "for id_route1, route in enumerate(routes):\n",
    "        \n",
    "    while True:\n",
    "        \n",
    "        \"\"\"\n",
    "        Next thing to do should be modify the for underneath this comment so that it saves an array of valid routes, and at the end, if the array is not empty,\n",
    "        check which one of the possible merges is the best and then merge with that\n",
    "        \n",
    "        \"\"\"\n",
    "                \n",
    "        found_id = -1\n",
    "        direction_of_merge = 'l'\n",
    "        \n",
    "        available_merges = []\n",
    "        \n",
    "        for id_route2, route2 in enumerate(routes):\n",
    "            if (id_route1 != id_route2):\n",
    "                    direction_of_merge = is_route_merge_valid(id_route1, id_route2)\n",
    "                    \n",
    "                    if direction_of_merge != \"\":\n",
    "                            if direction_of_merge == 'l' or direction_of_merge == 'r':\n",
    "                                available_merges += [(id_route2, direction_of_merge)]\n",
    "                            else:\n",
    "                                available_merges += [(id_route2, 'l')]\n",
    "                                available_merges += [(id_route2, 'r')]\n",
    "                    \n",
    "        \n",
    "        if (len(available_merges) == 0):\n",
    "            break\n",
    "            \n",
    "        print(available_merges)\n",
    "        found_id, direction_of_merge= find_first_merge(id_route1, available_merges)\n",
    "        merge_two_routes(id_route1, found_id-1, direction_of_merge)\n",
    "        break\n",
    "        \n",
    "    break\n",
    "             "
   ]
  },
  {
   "cell_type": "code",
   "execution_count": 116,
   "metadata": {},
   "outputs": [
    {
     "data": {
      "text/plain": [
       "(0, 1, 21, 0)"
      ]
     },
     "execution_count": 116,
     "metadata": {},
     "output_type": "execute_result"
    }
   ],
   "source": [
    "routes[0]"
   ]
  },
  {
   "cell_type": "code",
   "execution_count": 117,
   "metadata": {},
   "outputs": [
    {
     "data": {
      "text/plain": [
       "[(1, 'l'),\n",
       " (1, 'r'),\n",
       " (2, 'l'),\n",
       " (2, 'r'),\n",
       " (3, 'l'),\n",
       " (3, 'r'),\n",
       " (4, 'r'),\n",
       " (5, 'r'),\n",
       " (6, 'r'),\n",
       " (7, 'r'),\n",
       " (8, 'r'),\n",
       " (9, 'r'),\n",
       " (10, 'r'),\n",
       " (11, 'r'),\n",
       " (12, 'r'),\n",
       " (13, 'r'),\n",
       " (14, 'r'),\n",
       " (15, 'r'),\n",
       " (16, 'r'),\n",
       " (17, 'r'),\n",
       " (18, 'r'),\n",
       " (19, 'r'),\n",
       " (20, 'r'),\n",
       " (21, 'r'),\n",
       " (22, 'r'),\n",
       " (23, 'r')]"
      ]
     },
     "execution_count": 117,
     "metadata": {},
     "output_type": "execute_result"
    }
   ],
   "source": [
    "available_merges"
   ]
  },
  {
   "cell_type": "code",
   "execution_count": null,
   "metadata": {},
   "outputs": [],
   "source": [
    "ordered_i_savings"
   ]
  },
  {
   "cell_type": "code",
   "execution_count": null,
   "metadata": {},
   "outputs": [],
   "source": []
  },
  {
   "cell_type": "code",
   "execution_count": null,
   "metadata": {},
   "outputs": [],
   "source": []
  },
  {
   "cell_type": "code",
   "execution_count": null,
   "metadata": {},
   "outputs": [],
   "source": []
  },
  {
   "cell_type": "code",
   "execution_count": null,
   "metadata": {},
   "outputs": [],
   "source": []
  },
  {
   "cell_type": "code",
   "execution_count": null,
   "metadata": {},
   "outputs": [],
   "source": []
  },
  {
   "cell_type": "code",
   "execution_count": null,
   "metadata": {},
   "outputs": [],
   "source": []
  },
  {
   "cell_type": "code",
   "execution_count": null,
   "metadata": {},
   "outputs": [],
   "source": []
  },
  {
   "cell_type": "code",
   "execution_count": null,
   "metadata": {},
   "outputs": [],
   "source": []
  }
 ],
 "metadata": {
  "kernelspec": {
   "display_name": "Python 3",
   "language": "python",
   "name": "python3"
  },
  "language_info": {
   "codemirror_mode": {
    "name": "ipython",
    "version": 3
   },
   "file_extension": ".py",
   "mimetype": "text/x-python",
   "name": "python",
   "nbconvert_exporter": "python",
   "pygments_lexer": "ipython3",
   "version": "3.6.4"
  }
 },
 "nbformat": 4,
 "nbformat_minor": 2
}
